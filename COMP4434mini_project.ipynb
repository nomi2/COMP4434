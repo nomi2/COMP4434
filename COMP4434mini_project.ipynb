{
  "nbformat": 4,
  "nbformat_minor": 0,
  "metadata": {
    "colab": {
      "name": "COMP4434mini_project.ipynb",
      "provenance": [],
      "authorship_tag": "ABX9TyOyjw6THJjsCVL33KWPEffV",
      "include_colab_link": true
    },
    "kernelspec": {
      "name": "python3",
      "display_name": "Python 3"
    }
  },
  "cells": [
    {
      "cell_type": "markdown",
      "metadata": {
        "id": "view-in-github",
        "colab_type": "text"
      },
      "source": [
        "<a href=\"https://colab.research.google.com/github/nomi2/COMP4434/blob/master/COMP4434mini_project.ipynb\" target=\"_parent\"><img src=\"https://colab.research.google.com/assets/colab-badge.svg\" alt=\"Open In Colab\"/></a>"
      ]
    },
    {
      "cell_type": "code",
      "metadata": {
        "id": "ImvsvQFvrIpx",
        "colab_type": "code",
        "colab": {}
      },
      "source": [
        "import pandas as pd\n",
        "import numpy as np\n",
        "import matplotlib.pyplot as plt\n",
        "import seaborn as sns\n",
        "from google.colab import files "
      ],
      "execution_count": 0,
      "outputs": []
    },
    {
      "cell_type": "code",
      "metadata": {
        "id": "3rq5jAdUrNUc",
        "colab_type": "code",
        "colab": {}
      },
      "source": [
        "x_train = pd.read_csv('https://raw.githubusercontent.com/nomi2/COMP4434/master/X_train.csv', header=None)\n",
        "y_train = pd.read_csv('https://raw.githubusercontent.com/nomi2/COMP4434/master/Y_train.csv', header=None)\n",
        "x_test = pd.read_csv('https://raw.githubusercontent.com/nomi2/COMP4434/master/X_test.csv', header=None)"
      ],
      "execution_count": 0,
      "outputs": []
    },
    {
      "cell_type": "code",
      "metadata": {
        "id": "-XxaOwD58J1N",
        "colab_type": "code",
        "colab": {
          "base_uri": "https://localhost:8080/",
          "height": 441
        },
        "outputId": "ed538a39-35b4-4bd3-c2e3-ff5235282238"
      },
      "source": [
        "sns.jointplot(data=x_train, color='m', x=0, y=1);"
      ],
      "execution_count": 169,
      "outputs": [
        {
          "output_type": "display_data",
          "data": {
            "image/png": "[encoded data removed]",
            "text/plain": [
              "<Figure size 432x432 with 3 Axes>"
            ]
          },
          "metadata": {
            "tags": [],
            "needs_background": "light"
          }
        }
      ]
    },
    {
      "cell_type": "markdown",
      "metadata": {
        "id": "3JMYEecOmU_w",
        "colab_type": "text"
      },
      "source": [
        "# **Logistics Regression**"
      ]
    },
    {
      "cell_type": "markdown",
      "metadata": {
        "id": "T2vO50dgsrnf",
        "colab_type": "text"
      },
      "source": [
        "**Logistics Regression (without regularization)**"
      ]
    },
    {
      "cell_type": "code",
      "metadata": {
        "id": "E5cTcExWsrHD",
        "colab_type": "code",
        "colab": {}
      },
      "source": [
        "from sklearn.linear_model  import LogisticRegression\n",
        "from sklearn.model_selection import train_test_split"
      ],
      "execution_count": 0,
      "outputs": []
    },
    {
      "cell_type": "code",
      "metadata": {
        "id": "MBf0dAfUt27J",
        "colab_type": "code",
        "colab": {}
      },
      "source": [
        "x_train_temp, x_test_temp, y_train_temp, y_test_temp = train_test_split(x_train, y_train, test_size = 0.25, random_state=44)"
      ],
      "execution_count": 0,
      "outputs": []
    },
    {
      "cell_type": "code",
      "metadata": {
        "id": "mET13zybv5vL",
        "colab_type": "code",
        "colab": {}
      },
      "source": [
        "LRnoReg = LogisticRegression()\n",
        "LRnoReg.fit(x_train_temp, y_train_temp)"
      ],
      "execution_count": 0,
      "outputs": []
    },
    {
      "cell_type": "code",
      "metadata": {
        "id": "451fN8mvxLFk",
        "colab_type": "code",
        "colab": {
          "base_uri": "https://localhost:8080/",
          "height": 34
        },
        "outputId": "0dc4778e-cca4-4535-8ae1-a5c39d2b1de9"
      },
      "source": [
        "LRnoReg.score(x_test_temp, y_test_temp)"
      ],
      "execution_count": 301,
      "outputs": [
        {
          "output_type": "execute_result",
          "data": {
            "text/plain": [
              "0.96"
            ]
          },
          "metadata": {
            "tags": []
          },
          "execution_count": 301
        }
      ]
    },
    {
      "cell_type": "markdown",
      "metadata": {
        "id": "lPqZNsiN25Xs",
        "colab_type": "text"
      },
      "source": [
        "**Logistics Regression (with regularization)**"
      ]
    },
    {
      "cell_type": "markdown",
      "metadata": {
        "id": "2X9SBl7_UTer",
        "colab_type": "text"
      },
      "source": [
        "L1"
      ]
    },
    {
      "cell_type": "code",
      "metadata": {
        "id": "-UJwZK6D3HIZ",
        "colab_type": "code",
        "colab": {}
      },
      "source": [
        "from sklearn import preprocessing"
      ],
      "execution_count": 0,
      "outputs": []
    },
    {
      "cell_type": "code",
      "metadata": {
        "id": "VyQCSFWjQFnD",
        "colab_type": "code",
        "colab": {}
      },
      "source": [
        "L1_scaler = preprocessing.Normalizer(norm= 'l1')\n",
        "x_train_temp_L1= L1_scaler.fit_transform(x_train_temp)\n",
        "LRL1 = LogisticRegression()\n",
        "LRL1.fit(x_train_temp_L1, y_train_temp)"
      ],
      "execution_count": 0,
      "outputs": []
    },
    {
      "cell_type": "code",
      "metadata": {
        "id": "nbe7zyQqQFe-",
        "colab_type": "code",
        "colab": {
          "base_uri": "https://localhost:8080/",
          "height": 34
        },
        "outputId": "e345385b-f73d-4164-9624-8dc693c74a3a"
      },
      "source": [
        "x_test_temp_L1 = L1_scaler.transform(x_test_temp)\n",
        "LRL1.score(x_test_temp_L1, y_test_temp)"
      ],
      "execution_count": 303,
      "outputs": [
        {
          "output_type": "execute_result",
          "data": {
            "text/plain": [
              "0.696"
            ]
          },
          "metadata": {
            "tags": []
          },
          "execution_count": 303
        }
      ]
    },
    {
      "cell_type": "markdown",
      "metadata": {
        "id": "47tj0c1eBWn5",
        "colab_type": "text"
      },
      "source": [
        "L2"
      ]
    },
    {
      "cell_type": "code",
      "metadata": {
        "id": "-h3GOMNkBYS5",
        "colab_type": "code",
        "colab": {}
      },
      "source": [
        "L2_scaler = preprocessing.Normalizer()\n",
        "x_train_temp_L2 = L2_scaler.fit_transform(x_train_temp)\n",
        "LRL2 = LogisticRegression()\n",
        "LRL2.fit(x_train_temp_L2, y_train_temp)"
      ],
      "execution_count": 0,
      "outputs": []
    },
    {
      "cell_type": "code",
      "metadata": {
        "id": "kHnJpCW0CawM",
        "colab_type": "code",
        "colab": {
          "base_uri": "https://localhost:8080/",
          "height": 34
        },
        "outputId": "838420d2-edff-487d-c940-dee84839acb0"
      },
      "source": [
        "x_test_temp_L2 = L2_scaler.transform(x_test_temp)\n",
        "LRL2.score(x_test_temp_L2, y_test_temp)"
      ],
      "execution_count": 305,
      "outputs": [
        {
          "output_type": "execute_result",
          "data": {
            "text/plain": [
              "0.792"
            ]
          },
          "metadata": {
            "tags": []
          },
          "execution_count": 305
        }
      ]
    },
    {
      "cell_type": "code",
      "metadata": {
        "id": "1wIEvLhKC231",
        "colab_type": "code",
        "colab": {}
      },
      "source": [
        "sns.jointplot(data=pd.DataFrame(x_train_temp_L2), color='m', x=0, y=1);"
      ],
      "execution_count": 0,
      "outputs": []
    },
    {
      "cell_type": "markdown",
      "metadata": {
        "id": "-JXa8zFR6h7a",
        "colab_type": "text"
      },
      "source": [
        "z-score "
      ]
    },
    {
      "cell_type": "code",
      "metadata": {
        "id": "oD53wviw9Y33",
        "colab_type": "code",
        "colab": {}
      },
      "source": [
        "z_score_scaler = preprocessing.StandardScaler()\n",
        "x_train_temp_z = z_score_scaler.fit_transform(x_train_temp)\n",
        "LRZ = LogisticRegression()\n",
        "LRZ.fit(x_train_temp_z, y_train_temp)"
      ],
      "execution_count": 0,
      "outputs": []
    },
    {
      "cell_type": "code",
      "metadata": {
        "id": "HFTRAi0v52XF",
        "colab_type": "code",
        "colab": {
          "base_uri": "https://localhost:8080/",
          "height": 34
        },
        "outputId": "f6ff11eb-a0af-4009-b443-37f0a85c9c3b"
      },
      "source": [
        "x_test_temp_z = z_score_scaler.transform(x_test_temp)\n",
        "LRZ.score(x_test_temp_z, y_test_temp)"
      ],
      "execution_count": 313,
      "outputs": [
        {
          "output_type": "execute_result",
          "data": {
            "text/plain": [
              "0.984"
            ]
          },
          "metadata": {
            "tags": []
          },
          "execution_count": 313
        }
      ]
    },
    {
      "cell_type": "code",
      "metadata": {
        "id": "Z1h3hGjg9_LS",
        "colab_type": "code",
        "colab": {
          "base_uri": "https://localhost:8080/",
          "height": 441
        },
        "outputId": "5a8d5709-0c9e-48ff-b56d-d790fdb22d21"
      },
      "source": [
        "sns.jointplot(data = pd.DataFrame(x_train_temp_z), color='m', x=0, y=1);"
      ],
      "execution_count": 311,
      "outputs": [
        {
          "output_type": "display_data",
          "data": {
            "image/png": "[encoded data removed]",
            "text/plain": [
              "<Figure size 432x432 with 3 Axes>"
            ]
          },
          "metadata": {
            "tags": [],
            "needs_background": "light"
          }
        }
      ]
    },
    {
      "cell_type": "markdown",
      "metadata": {
        "id": "afbqsKCq6nOa",
        "colab_type": "text"
      },
      "source": [
        "Min Max"
      ]
    },
    {
      "cell_type": "code",
      "metadata": {
        "id": "6WyrQ4GO-cAG",
        "colab_type": "code",
        "colab": {}
      },
      "source": [
        "minmax_scaler = preprocessing.MinMaxScaler()\n",
        "x_train_temp_minmax = minmax_scaler.fit_transform(x_train_temp)\n",
        "LRMM = LogisticRegression()\n",
        "LRMM.fit(x_train_temp_minmax, y_train_temp)"
      ],
      "execution_count": 0,
      "outputs": []
    },
    {
      "cell_type": "code",
      "metadata": {
        "id": "Me55LNyx630C",
        "colab_type": "code",
        "colab": {
          "base_uri": "https://localhost:8080/",
          "height": 34
        },
        "outputId": "2042de0c-cd14-44fa-ab3e-0c4ed99ab94a"
      },
      "source": [
        "x_test_temp_minmax = minmax_scaler.transform(x_test_temp)\n",
        "LRMM.score(x_test_temp_minmax, y_test_temp)"
      ],
      "execution_count": 234,
      "outputs": [
        {
          "output_type": "execute_result",
          "data": {
            "text/plain": [
              "0.9333333333333333"
            ]
          },
          "metadata": {
            "tags": []
          },
          "execution_count": 234
        }
      ]
    },
    {
      "cell_type": "code",
      "metadata": {
        "id": "LqeOh12X_1oq",
        "colab_type": "code",
        "colab": {
          "base_uri": "https://localhost:8080/",
          "height": 441
        },
        "outputId": "9f35a538-9c9c-444f-95ca-e72227c19888"
      },
      "source": [
        "sns.jointplot(data=pd.DataFrame(x_train_temp_minmax), color='m', x=0, y=1);"
      ],
      "execution_count": 235,
      "outputs": [
        {
          "output_type": "display_data",
          "data": {
            "image/png": "[encoded data removed]",
            "text/plain": [
              "<Figure size 432x432 with 3 Axes>"
            ]
          },
          "metadata": {
            "tags": [],
            "needs_background": "light"
          }
        }
      ]
    },
    {
      "cell_type": "markdown",
      "metadata": {
        "id": "HhFjX5oh7QcO",
        "colab_type": "text"
      },
      "source": [
        "MaxAbs"
      ]
    },
    {
      "cell_type": "code",
      "metadata": {
        "id": "dwhXKqg17U2G",
        "colab_type": "code",
        "colab": {}
      },
      "source": [
        "MA_scaler = preprocessing.MaxAbsScaler()\n",
        "x_train_temp_MA = MA_scaler.fit_transform(x_train_temp)\n",
        "LRnoReg = LogisticRegression()\n",
        "LRnoReg.fit(x_train_temp_MA, y_train_temp)"
      ],
      "execution_count": 0,
      "outputs": []
    },
    {
      "cell_type": "code",
      "metadata": {
        "id": "Rx5GlX5C7Ybx",
        "colab_type": "code",
        "colab": {
          "base_uri": "https://localhost:8080/",
          "height": 34
        },
        "outputId": "6a9e4bf3-f860-4f65-e19f-5b55dd6bd819"
      },
      "source": [
        "x_test_temp_MA = ma_scaler.transform(x_test_temp)\n",
        "LRnoReg.score(x_test_temp_MA, y_test_temp)"
      ],
      "execution_count": 223,
      "outputs": [
        {
          "output_type": "execute_result",
          "data": {
            "text/plain": [
              "0.92"
            ]
          },
          "metadata": {
            "tags": []
          },
          "execution_count": 223
        }
      ]
    },
    {
      "cell_type": "code",
      "metadata": {
        "id": "Ded_-zW7C70F",
        "colab_type": "code",
        "colab": {
          "base_uri": "https://localhost:8080/",
          "height": 441
        },
        "outputId": "046a2c48-a094-4404-9b7e-5330ff54cb09"
      },
      "source": [
        "sns.jointplot(data=pd.DataFrame(x_train_temp_MA), color='m', x=0, y=1);"
      ],
      "execution_count": 224,
      "outputs": [
        {
          "output_type": "display_data",
          "data": {
            "image/png": "[encoded data removed]",
            "text/plain": [
              "<Figure size 432x432 with 3 Axes>"
            ]
          },
          "metadata": {
            "tags": [],
            "needs_background": "light"
          }
        }
      ]
    },
    {
      "cell_type": "markdown",
      "metadata": {
        "id": "hkOOT5zAoRHv",
        "colab_type": "text"
      },
      "source": [
        "**Logistics Regression (Prediction)**"
      ]
    },
    {
      "cell_type": "code",
      "metadata": {
        "colab_type": "code",
        "id": "wVcONbOIobuT",
        "colab": {}
      },
      "source": [
        "z_score_scaler = preprocessing.StandardScaler()\n",
        "x_train_z = z_score_scaler.fit_transform(x_train)"
      ],
      "execution_count": 0,
      "outputs": []
    },
    {
      "cell_type": "code",
      "metadata": {
        "id": "6tv3GN0dohhi",
        "colab_type": "code",
        "colab": {}
      },
      "source": [
        "LRZ = LogisticRegression()\n",
        "LRZ.fit(x_train_z, y_train)"
      ],
      "execution_count": 0,
      "outputs": []
    },
    {
      "cell_type": "code",
      "metadata": {
        "colab_type": "code",
        "id": "_0O4blz1obuW",
        "colab": {}
      },
      "source": [
        "x_test_z = z_score_scaler.transform(x_test)"
      ],
      "execution_count": 0,
      "outputs": []
    },
    {
      "cell_type": "code",
      "metadata": {
        "id": "tdFE4PeMoVvz",
        "colab_type": "code",
        "colab": {}
      },
      "source": [
        "y_pre = pd.DataFrame(LRZ.predict(x_test_z))"
      ],
      "execution_count": 0,
      "outputs": []
    },
    {
      "cell_type": "code",
      "metadata": {
        "id": "-X5WuxhmoVst",
        "colab_type": "code",
        "colab": {}
      },
      "source": [
        "y_pre.to_csv('LeeKamMan_18044725D.csv') \n",
        "files.download('LeeKamMan_18044725D.csv')"
      ],
      "execution_count": 0,
      "outputs": []
    },
    {
      "cell_type": "markdown",
      "metadata": {
        "id": "HbyLsOrXmGA2",
        "colab_type": "text"
      },
      "source": [
        "# **Neural Network**"
      ]
    },
    {
      "cell_type": "markdown",
      "metadata": {
        "id": "TwUlmKYbF4B0",
        "colab_type": "text"
      },
      "source": [
        "**Neural Network (without regularization)**"
      ]
    },
    {
      "cell_type": "code",
      "metadata": {
        "id": "8McQyx46F_7q",
        "colab_type": "code",
        "colab": {}
      },
      "source": [
        "from sklearn.neural_network import MLPClassifier"
      ],
      "execution_count": 0,
      "outputs": []
    },
    {
      "cell_type": "code",
      "metadata": {
        "id": "uHjjGy8IGPId",
        "colab_type": "code",
        "colab": {}
      },
      "source": [
        "MLP = MLPClassifier()\n",
        "MLP.fit(x_train_temp, y_train_temp)"
      ],
      "execution_count": 0,
      "outputs": []
    },
    {
      "cell_type": "code",
      "metadata": {
        "id": "IvJdksSYiWrp",
        "colab_type": "code",
        "colab": {
          "base_uri": "https://localhost:8080/",
          "height": 34
        },
        "outputId": "e5875bb0-d7c3-4ba6-a280-962af48242fd"
      },
      "source": [
        "MLP.score(x_test_temp, y_test_temp)"
      ],
      "execution_count": 330,
      "outputs": [
        {
          "output_type": "execute_result",
          "data": {
            "text/plain": [
              "0.944"
            ]
          },
          "metadata": {
            "tags": []
          },
          "execution_count": 330
        }
      ]
    },
    {
      "cell_type": "markdown",
      "metadata": {
        "id": "827hFbAnG5Ij",
        "colab_type": "text"
      },
      "source": [
        "**Neural Network (with regularization)**"
      ]
    },
    {
      "cell_type": "markdown",
      "metadata": {
        "id": "G_r6tNdxi1vG",
        "colab_type": "text"
      },
      "source": [
        "Z Score"
      ]
    },
    {
      "cell_type": "code",
      "metadata": {
        "id": "FHx6AindG4XU",
        "colab_type": "code",
        "colab": {}
      },
      "source": [
        "MLP = MLPClassifier()\n",
        "MLP.fit(x_train_temp_z, y_train_temp)"
      ],
      "execution_count": 0,
      "outputs": []
    },
    {
      "cell_type": "code",
      "metadata": {
        "id": "uSG69h2Ji0jk",
        "colab_type": "code",
        "colab": {
          "base_uri": "https://localhost:8080/",
          "height": 34
        },
        "outputId": "da4238ca-a548-43a9-b4da-c1a28c27215d"
      },
      "source": [
        "MLP.score(x_test_temp_z, y_test_temp)"
      ],
      "execution_count": 334,
      "outputs": [
        {
          "output_type": "execute_result",
          "data": {
            "text/plain": [
              "0.992"
            ]
          },
          "metadata": {
            "tags": []
          },
          "execution_count": 334
        }
      ]
    },
    {
      "cell_type": "markdown",
      "metadata": {
        "id": "Gx2ZetpJi_q_",
        "colab_type": "text"
      },
      "source": [
        "L1 Regularization"
      ]
    },
    {
      "cell_type": "code",
      "metadata": {
        "id": "6i9ZCNachHMt",
        "colab_type": "code",
        "colab": {}
      },
      "source": [
        "MLP = MLPClassifier()\n",
        "MLP.fit(x_train_temp_L1, y_train_temp)"
      ],
      "execution_count": 0,
      "outputs": []
    },
    {
      "cell_type": "code",
      "metadata": {
        "id": "pBrNKCrcjEBx",
        "colab_type": "code",
        "colab": {
          "base_uri": "https://localhost:8080/",
          "height": 34
        },
        "outputId": "ff9c686c-6172-4d8c-c88e-0a8b2ab24c84"
      },
      "source": [
        "MLP.score(x_test_temp_L1, y_test_temp)"
      ],
      "execution_count": 336,
      "outputs": [
        {
          "output_type": "execute_result",
          "data": {
            "text/plain": [
              "0.864"
            ]
          },
          "metadata": {
            "tags": []
          },
          "execution_count": 336
        }
      ]
    },
    {
      "cell_type": "code",
      "metadata": {
        "id": "y_sWZfa2HV8L",
        "colab_type": "code",
        "colab": {}
      },
      "source": [
        "MLP = MLPClassifier()\n",
        "MLP.fit(x_train_temp_L2, y_train_temp)"
      ],
      "execution_count": 0,
      "outputs": []
    },
    {
      "cell_type": "code",
      "metadata": {
        "id": "VXig4cs-g-Vo",
        "colab_type": "code",
        "colab": {
          "base_uri": "https://localhost:8080/",
          "height": 34
        },
        "outputId": "42f39652-4ad7-4c56-86ba-eda8f110f215"
      },
      "source": [
        "MLP.score(x_test_temp_L2, y_test_temp)"
      ],
      "execution_count": 340,
      "outputs": [
        {
          "output_type": "execute_result",
          "data": {
            "text/plain": [
              "0.912"
            ]
          },
          "metadata": {
            "tags": []
          },
          "execution_count": 340
        }
      ]
    },
    {
      "cell_type": "markdown",
      "metadata": {
        "id": "kanZNFrTms7Q",
        "colab_type": "text"
      },
      "source": [
        "**Neural Network (Prediction)**"
      ]
    },
    {
      "cell_type": "code",
      "metadata": {
        "id": "V0_BDgTym4YF",
        "colab_type": "code",
        "colab": {}
      },
      "source": [
        "z_score_scaler = preprocessing.StandardScaler()\n",
        "x_train_z = z_score_scaler.fit_transform(x_train)"
      ],
      "execution_count": 0,
      "outputs": []
    },
    {
      "cell_type": "code",
      "metadata": {
        "id": "X1snQi4kmq8p",
        "colab_type": "code",
        "colab": {}
      },
      "source": [
        "MLP = MLPClassifier()\n",
        "MLP.fit(x_train_z, y_train)"
      ],
      "execution_count": 0,
      "outputs": []
    },
    {
      "cell_type": "code",
      "metadata": {
        "id": "REBzYjVgnIFJ",
        "colab_type": "code",
        "colab": {}
      },
      "source": [
        "x_test_z = z_score_scaler.transform(x_test)"
      ],
      "execution_count": 0,
      "outputs": []
    },
    {
      "cell_type": "code",
      "metadata": {
        "id": "Pdoqz-3cnEMi",
        "colab_type": "code",
        "colab": {}
      },
      "source": [
        "nny_pre = pd.DataFrame(MLP.predict(x_test_z))"
      ],
      "execution_count": 0,
      "outputs": []
    },
    {
      "cell_type": "code",
      "metadata": {
        "id": "WB6ixztIn7CK",
        "colab_type": "code",
        "colab": {}
      },
      "source": [
        "nny_pre.to_csv('nn_LeeKamMan_18044725D.csv') \n",
        "files.download('nn_LeeKamMan_18044725D.csv')"
      ],
      "execution_count": 0,
      "outputs": []
    }
  ]
}